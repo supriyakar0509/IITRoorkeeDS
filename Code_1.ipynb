{
 "cells": [
  {
   "cell_type": "markdown",
   "metadata": {},
   "source": [
    "#  Getting Started With Python"
   ]
  },
  {
   "cell_type": "markdown",
   "metadata": {},
   "source": [
    "Q1: Choose your base between 3 and 15"
   ]
  },
  {
   "cell_type": "code",
   "execution_count": 6,
   "metadata": {},
   "outputs": [],
   "source": [
    "base = 15"
   ]
  },
  {
   "cell_type": "code",
   "execution_count": 8,
   "metadata": {},
   "outputs": [
    {
     "name": "stdout",
     "output_type": "stream",
     "text": [
      "Ans: 15\n"
     ]
    }
   ],
   "source": [
    "print(\"Ans:\", base)"
   ]
  },
  {
   "cell_type": "markdown",
   "metadata": {},
   "source": [
    "Q2: Write the 50 numbers in base 15."
   ]
  },
  {
   "cell_type": "markdown",
   "metadata": {},
   "source": [
    "Ans: 0,1,2,3,4,5,6,7,8,9,A,B,C,D,E,10,11,12,13,14,15,16,17,18,19,1A,1B,1C,1D,1E,20,21,22,23,24,25,26,27,28,29,2A,2B,2C,2D,2E,30,31,32,33,34"
   ]
  },
  {
   "cell_type": "markdown",
   "metadata": {},
   "source": [
    "Q3: (i) Addition of single digits in base 15"
   ]
  },
  {
   "cell_type": "markdown",
   "metadata": {},
   "source": [
    "Ans: 9 + A = 14, 5 + B = 11, 6 + E = 15."
   ]
  },
  {
   "cell_type": "markdown",
   "metadata": {},
   "source": [
    "(ii) Addition of multiple digits in base 15."
   ]
  },
  {
   "cell_type": "markdown",
   "metadata": {},
   "source": [
    "Ans: 1456 + 2ACE = 4035, 3EBD + 14AB = 5479, 9ADE + A3BC = 14EAB"
   ]
  },
  {
   "cell_type": "markdown",
   "metadata": {},
   "source": [
    "Q4: (i) Subtraction of single digits in base 15"
   ]
  },
  {
   "cell_type": "markdown",
   "metadata": {},
   "source": [
    "Ans: B - 8 = 3, D - 6 = 7, A - 9 = 1"
   ]
  },
  {
   "cell_type": "markdown",
   "metadata": {},
   "source": [
    "(ii) Subtraction of multiple digits in base 15."
   ]
  },
  {
   "cell_type": "markdown",
   "metadata": {},
   "source": [
    "Ans: A1B2 - 9CDE = 3C3, E3D4 - 5A2B = 88A8, C2B1 - 4567 = 7C49"
   ]
  },
  {
   "cell_type": "markdown",
   "metadata": {},
   "source": [
    "Q5: Prepare a table of single digit multiplication in base 15."
   ]
  },
  {
   "cell_type": "markdown",
   "metadata": {},
   "source": [
    "Ans: Base 15 Multiplication table (Single Digit)"
   ]
  },
  {
   "cell_type": "markdown",
   "metadata": {},
   "source": [
    "|   | 0 | 1 | 2 | 3 | 4 | 5 | 6 | 7 | 8 | 9 | A | B | C | D | E |\n",
    "|---|---|---|---|---|---|---|---|---|---|---|---|---|---|---|---|\n",
    "| 0 | 0 | 0 | 0 | 0 | 0 | 0 | 0 | 0 | 0 | 0 | 0 | 0 | 0 | 0 | 0 |\n",
    "| 1 | 0 | 1 | 2 | 3 | 4 | 5 | 6 | 7 | 8 | 9 | A | B | C | D | E |\n",
    "| 2 | 0 | 2 | 4 | 6 | 8 | A | C | E | 11 | 13 | 15 | 17 | 19 | 1B | 1D |\n",
    "| 3 | 0 | 3 | 6 | 9 | C | F | 12 | 15 | 18 | 1B | 1E | 21 | 24 | 27 | 2A |\n",
    "| 4 | 0 | 4 | 8 | C | 10 | 14 | 18 | 1C | 20 | 24 | 28 | 2C | 30 | 34 | 38 |\n",
    "| 5 | 0 | 5 | A | F | 14 | 19 | 1E | 23 | 28 | 2D | 32 | 37 | 3C | 41 | 46 |\n",
    "| 6 | 0 | 6 | C | 12 | 18 | 1E | 24 | 2A | 30 | 36 | 3C | 42 | 48 | 4E | 54 |\n",
    "| 7 | 0 | 7 | E | 15 | 1C | 23 | 2A | 31 | 38 | 3F | 46 | 4D | 54 | 5B | 62 |\n",
    "| 8 | 0 | 8 | 11 | 18 | 20 | 28 | 30 | 38 | 40 | 48 | 50 | 58 | 60 | 68 | 70 |\n",
    "| 9 | 0 | 9 | 13 | 1B | 24 | 2D | 36 | 3F | 48 | 51 | 5A | 63 | 6C | 75 | 7E |\n",
    "| A | 0 | A | 15 | 1E | 28 | 32 | 3C | 46 | 50 | 5A | 64 | 6E | 78 | 82 | 8C |\n",
    "| B | 0 | B | 17 | 21 | 2C | 37 | 42 | 4D | 58 | 63 | 6E | 79 | 84 | 8F | 9A |\n",
    "| C | 0 | C | 19 | 24 | 30 | 3C | 48 | 54 | 60 | 6C | 78 | 84 | 90 | 9C | A8 |\n",
    "| D | 0 | D | 1B | 27 | 34 | 41 | 4E | 5B | 68 | 75 | 82 | 8F | 9C | A9 | B6 |\n",
    "| E | 0 | E | 1D | 2A | 38 | 46 | 54 | 62 | 70 | 7E | 8C | 9A | A8 | B6 | C4 |"
   ]
  },
  {
   "cell_type": "markdown",
   "metadata": {},
   "source": [
    "Q6: Multiply multiple digits in base 15."
   ]
  },
  {
   "cell_type": "markdown",
   "metadata": {},
   "source": [
    "Ans: A1B2 * 9CDE = 69B70D1D, E3D4 * 5A2B = 55E9243E, C2B1 * 4567 = 3821B087"
   ]
  },
  {
   "cell_type": "markdown",
   "metadata": {},
   "source": [
    "Q7: Convert the following numbers from base 15 to base 10."
   ]
  },
  {
   "cell_type": "markdown",
   "metadata": {},
   "source": [
    " (i) 1 \n",
    " \n",
    " Ans: 1\n",
    " \n",
    " (ii) 10\n",
    "\n",
    " Ans: 15\n",
    " \n",
    " (iii) 20\n",
    " \n",
    " Ans: 30\n",
    " \n",
    " (iv) 30\n",
    " \n",
    " Ans: 45\n",
    " \n",
    " (v) 100\n",
    " \n",
    " Ans: 225"
   ]
  },
  {
   "cell_type": "markdown",
   "metadata": {},
   "source": [
    "Q8: Write a strategy to convert a number from base 15 to base 10 in\n",
    " (i) plain english\n",
    " (ii) pseudo code\n",
    " (iii) code"
   ]
  },
  {
   "cell_type": "markdown",
   "metadata": {},
   "source": [
    "Ans: (i) plain english\n",
    "\n",
    " 1. In base 15, we have the following digits: 0,1,2,3,4,5,6,7,8,9,A,B,C,D,E,\n",
    " \n",
    " which in base 10, the digits\n",
    " \n",
    " 0-9 are represented by 0-9 themselves\n",
    " \n",
    " A is represented by 10\n",
    " \n",
    " B is represented by 11\n",
    " \n",
    " C is represented by 12\n",
    " \n",
    " D is represented by 13\n",
    " \n",
    " E is represented by 14\n",
    " \n",
    " \n",
    " 2. Now, the positional values of the digits vary as powers of 15, i.e., \n",
    " \n",
    " (a) For the rightmost digit, the positional value is 15^0.\n",
    " \n",
    " (b) For the next digit left to the rightmost digit, the positional value is 15^1.\n",
    " \n",
    " (c) For the next digit to the left of the digit with positional value 15^1, the positional value is 15^2, ans so on....\n",
    " \n",
    " \n",
    " 3. Now, we convert each digit in the number of base 15 to the decimal equivalent of the respective digits.\n",
    " \n",
    " \n",
    " 4. We multiply each converted decimal equivalent of the number of base 15 by its corresponding positional value.\n",
    " \n",
    " \n",
    " 5. We add all the resulting products together to obtain the desired number(initially in base 15) in base 10.\n",
    " \n",
    " \n",
    " (ii) pseudo code\n",
    " \n",
    " \n",
    "    define function find_index(array, element):\n",
    "   \n",
    "            #input: 'array' represents the array of elements, 'element' represents the element to be found\n",
    "   \n",
    "            #output: The index of the element in the array, or 'NOT FOUND' if not found\n",
    "            \n",
    "            For i from 0 to len(array)-1:\n",
    "                   \n",
    "                   If array[i] == element\n",
    "                         \n",
    "                         return i \n",
    "                         \n",
    "                    else: \n",
    "                    \n",
    "                          return 'NOT FOUND'\n",
    "                          \n",
    "      define function base15_to_base10(number):\n",
    "       \n",
    "              #input: base 15 number\n",
    "              \n",
    "              #output: base 10 number \n",
    "              \n",
    "              syms_of_base15 = \"0123456789ABCDE\"\n",
    "              \n",
    "              base10valueofinput = 0\n",
    "              \n",
    "              power=0\n",
    "              \n",
    "              For i from len[str(number)]-1 to 0:\n",
    "                      \n",
    "                      digit = str(number)[i]\n",
    "                      \n",
    "                      base10digitvalue = find_index(syms_of_base15, digit)\n",
    "                      \n",
    "                        if base10digitvalue == 'NOT FOUND'\n",
    "                         \n",
    "                         return \"invalid input\"\n",
    "                         \n",
    "                        else:\n",
    "                          \n",
    "                          base10valueofinput = base10valueofinput + base10digitvalue* (15^power)\n",
    "                          \n",
    "                          power = power +1\n",
    "                          \n",
    "                         return base10valueofinput\n",
    "                         \n",
    "                         \n",
    "(iii) code\n",
    "             \n",
    "             \n",
    " \n",
    "     "
   ]
  },
  {
   "cell_type": "code",
   "execution_count": 1,
   "metadata": {},
   "outputs": [],
   "source": [
    "def find_index(array, element):\n",
    "    for i in range(len(array)):\n",
    "        if array[i] == element:\n",
    "            return i\n",
    "    return None\n",
    "\n",
    "def base15_to_base10(number):\n",
    "    syms_of_base15 = \"0123456789ABCDE\"\n",
    "    base10valueofinput = 0\n",
    "    power = 0\n",
    "\n",
    "    number_str = str(number)\n",
    "    for i in range(len(number_str) - 1, -1, -1):\n",
    "        digit = number_str[i]\n",
    "        base10digitvalue = find_index(syms_of_base15, digit)\n",
    "\n",
    "        if base10digitvalue is None:\n",
    "            return \"invalid input\"\n",
    "        else:\n",
    "            base10valueofinput = base10valueofinput + base10digitvalue * (15 ** power)\n",
    "            power += 1\n",
    "    return base10valueofinput"
   ]
  },
  {
   "cell_type": "code",
   "execution_count": 2,
   "metadata": {},
   "outputs": [
    {
     "name": "stdout",
     "output_type": "stream",
     "text": [
      "Final result: 17452\n"
     ]
    }
   ],
   "source": [
    "result = base15_to_base10(\"5287\")\n",
    "print(\"Final result:\", result)"
   ]
  },
  {
   "cell_type": "code",
   "execution_count": 3,
   "metadata": {},
   "outputs": [
    {
     "name": "stdout",
     "output_type": "stream",
     "text": [
      "Final result: 65129359\n"
     ]
    }
   ],
   "source": [
    "result = base15_to_base10(\"5AB78C4\")\n",
    "print(\"Final result:\", result)"
   ]
  },
  {
   "cell_type": "code",
   "execution_count": 6,
   "metadata": {},
   "outputs": [
    {
     "name": "stdout",
     "output_type": "stream",
     "text": [
      "Final result: invalid input\n"
     ]
    }
   ],
   "source": [
    "result = base15_to_base10(\"fghg\")\n",
    "print(\"Final result:\", result)"
   ]
  },
  {
   "cell_type": "markdown",
   "metadata": {},
   "source": [
    "Q9: Write a strategy to convert a number in base N to base M in (i) plain english  (ii) pseudo code  (iii) code"
   ]
  },
  {
   "cell_type": "code",
   "execution_count": null,
   "metadata": {},
   "outputs": [],
   "source": []
  },
  {
   "cell_type": "markdown",
   "metadata": {},
   "source": [
    "Q10: In base 10, how many numbers can you represent in 5 digits?"
   ]
  },
  {
   "cell_type": "code",
   "execution_count": 1,
   "metadata": {},
   "outputs": [
    {
     "data": {
      "text/plain": [
       "100000"
      ]
     },
     "execution_count": 1,
     "metadata": {},
     "output_type": "execute_result"
    }
   ],
   "source": [
    "10**5"
   ]
  },
  {
   "cell_type": "markdown",
   "metadata": {},
   "source": [
    "Q11: In base 7, how many numbers can you represent in 5 digits?"
   ]
  },
  {
   "cell_type": "code",
   "execution_count": 2,
   "metadata": {},
   "outputs": [
    {
     "data": {
      "text/plain": [
       "16807"
      ]
     },
     "execution_count": 2,
     "metadata": {},
     "output_type": "execute_result"
    }
   ],
   "source": [
    "7**5"
   ]
  },
  {
   "cell_type": "markdown",
   "metadata": {},
   "source": [
    "Q12: In base B, how many numbers can you represent in n digits?"
   ]
  },
  {
   "cell_type": "markdown",
   "metadata": {},
   "source": [
    "Ans: B^n"
   ]
  },
  {
   "cell_type": "markdown",
   "metadata": {},
   "source": [
    "Q13: To represent numbers upto 10000 but not including 10000 in base 10, how many digits do you need ?"
   ]
  },
  {
   "cell_type": "markdown",
   "metadata": {},
   "source": [
    "Ans: 4\n",
    "\n",
    "\n",
    "Note: We are representing total 10000 numbers from 0 to 9999."
   ]
  },
  {
   "cell_type": "markdown",
   "metadata": {},
   "source": [
    "Q14: To represent N numbers, how many digits do we need in base 10?"
   ]
  },
  {
   "cell_type": "markdown",
   "metadata": {},
   "source": [
    "Ans: d = log N"
   ]
  },
  {
   "cell_type": "markdown",
   "metadata": {},
   "source": [
    "Q15: To represent N numbers, how many digits do we need in base B?"
   ]
  },
  {
   "cell_type": "markdown",
   "metadata": {},
   "source": [
    "Ans: d = log(B) N"
   ]
  },
  {
   "cell_type": "markdown",
   "metadata": {},
   "source": [
    "Q16: Write your own algorithm to find log 10. You can use 10^x."
   ]
  },
  {
   "cell_type": "code",
   "execution_count": null,
   "metadata": {},
   "outputs": [],
   "source": []
  }
 ],
 "metadata": {
  "kernelspec": {
   "display_name": "Python3.10",
   "language": "python",
   "name": "python3.10"
  },
  "language_info": {
   "codemirror_mode": {
    "name": "ipython",
    "version": 3
   },
   "file_extension": ".py",
   "mimetype": "text/x-python",
   "name": "python",
   "nbconvert_exporter": "python",
   "pygments_lexer": "ipython3",
   "version": "3.10.14"
  },
  "toc": {
   "base_numbering": 1,
   "nav_menu": {},
   "number_sections": true,
   "sideBar": true,
   "skip_h1_title": false,
   "title_cell": "Table of Contents",
   "title_sidebar": "Contents",
   "toc_cell": false,
   "toc_position": {},
   "toc_section_display": true,
   "toc_window_display": false
  }
 },
 "nbformat": 4,
 "nbformat_minor": 2
}
